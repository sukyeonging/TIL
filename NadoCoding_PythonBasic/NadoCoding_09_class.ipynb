{
 "cells": [
  {
   "cell_type": "markdown",
   "metadata": {},
   "source": [
    "Youtube_NadoCoding_class_3:38:08"
   ]
  },
  {
   "cell_type": "markdown",
   "metadata": {},
   "source": [
    "# 클래스\n",
    "- 서로 연관이 있는 함수, 변수의 집합\n",
    "- \"붕어빵 틀\"에 비유한다.\n",
    "- 붕어빵 틀 기계는 1개지만, 틀에 재료를 넣으면 붕어빵을 무한히 만들수 있다."
   ]
  },
  {
   "cell_type": "code",
   "execution_count": null,
   "metadata": {},
   "outputs": [],
   "source": []
  },
  {
   "cell_type": "code",
   "execution_count": null,
   "metadata": {},
   "outputs": [],
   "source": []
  },
  {
   "cell_type": "code",
   "execution_count": null,
   "metadata": {},
   "outputs": [],
   "source": []
  },
  {
   "cell_type": "code",
   "execution_count": null,
   "metadata": {},
   "outputs": [],
   "source": []
  },
  {
   "cell_type": "code",
   "execution_count": 8,
   "metadata": {},
   "outputs": [
    {
     "name": "stdout",
     "output_type": "stream",
     "text": [
      "마린 유닛이 생성되었습니다.\n",
      "체력 40, 공격력 5\n",
      "\n",
      "탱크 유닛이 생성되었습니다.\n",
      "체력 150, 공격력 35\n",
      "\n",
      "마린 : 1시 방향으로 적군을 공격 합니다. [공격력 5]\n",
      "탱크 : 1시 방향으로 적군을 공격 합니다. [공격력 35]\n"
     ]
    }
   ],
   "source": [
    "# 마린 : 공격 유닛, 군인. 총 쏠수있음\n",
    "name = \"마린\"  # 유닛 의 이름\n",
    "hp = 40  # 유닛의 체력\n",
    "damage = 5  # 유닛의 공격력\n",
    "\n",
    "print(\"{0} 유닛이 생성되었습니다.\".format(name))\n",
    "print(\"체력 {0}, 공격력 {1}\\n\".format(hp,damage))\n",
    "\n",
    "# 탱크 : 공격 유닛, 탱크. 포를 쏠 수 있는데, 일반 모드 / 시즈 모드.\n",
    "tank_name = \"탱크\"\n",
    "tank_hp = 150\n",
    "tank_damage = 35\n",
    "\n",
    "print(\"{0} 유닛이 생성되었습니다.\".format(tank_name))\n",
    "print(\"체력 {0}, 공격력 {1}\\n\".format(tank_hp,tank_damage))\n",
    "\n",
    "\n",
    "\n",
    "# 함수 만들기\n",
    "def attack(name, location, damage):\n",
    "    print(\"{0} : {1} 방향으로 적군을 공격 합니다. [공격력 {2}]\".format(\\\n",
    "                                                       name, location, damage))\n",
    "attack(name, \"1시\", damage)\n",
    "attack(tank_name, \"1시\", tank_damage)\n",
    "\n",
    "\n",
    "\n",
    "# 탱크가 하나 더 추가된다면?? 100개 추가? 1000000개 추가된다면??"
   ]
  },
  {
   "cell_type": "code",
   "execution_count": null,
   "metadata": {},
   "outputs": [],
   "source": [
    "# 이럴때 class 가 필요하다!"
   ]
  },
  {
   "cell_type": "code",
   "execution_count": 10,
   "metadata": {},
   "outputs": [
    {
     "name": "stdout",
     "output_type": "stream",
     "text": [
      "마린 유닛이 생성 되었습니다.\n",
      "체력 40, 공격력 5\n",
      "마린 유닛이 생성 되었습니다.\n",
      "체력 40, 공격력 5\n",
      "탱크 유닛이 생성 되었습니다.\n",
      "체력 150, 공격력 35\n"
     ]
    }
   ],
   "source": [
    "## Unit 이라는 클래스 만들기\n",
    "\n",
    "\n",
    "class Unit:\n",
    "    def __init__(self, name, hp, damage):\n",
    "        self.name = name\n",
    "        self.hp = hp\n",
    "        self.damage = damage\n",
    "        print(\"{0} 유닛이 생성 되었습니다.\".format(self.name))\n",
    "        print(\"체력 {0}, 공격력 {1}\".format(self.hp, self.damage))\n",
    "\n",
    "        \n",
    "# 똑같은 클래스를 통해서 여러개의 다른 marine, tank에 대해서 유닛(객체)을 만들수 있다\n",
    "marine1 = Unit(\"마린\", 40, 5)\n",
    "marine2 = Unit(\"마린\", 40, 5)\n",
    "tank = Unit(\"탱크\", 150, 35)\n",
    "# marine3 = Unit(\"마린\")\n",
    "# marine3 = Unit(\"마린\", 40)   # init 함수에 정의된 갯수만큼 self를 빼고 똑같이 전달해줘야함.\n",
    "\n",
    "# marine, tank 등의 객체를 Unit 클래스의 \"instance\" 라고 한다."
   ]
  },
  {
   "cell_type": "code",
   "execution_count": null,
   "metadata": {},
   "outputs": [],
   "source": []
  },
  {
   "cell_type": "markdown",
   "metadata": {},
   "source": [
    "### init\n",
    "- 파이썬에서 쓰이는 생성자\n",
    "- 클래스를 통해 객체가 만들어질때 자동으로 호출되는 부분.\n"
   ]
  },
  {
   "cell_type": "code",
   "execution_count": null,
   "metadata": {},
   "outputs": [],
   "source": []
  },
  {
   "cell_type": "markdown",
   "metadata": {},
   "source": [
    "### 멤버 변수\n",
    "- class 내에서 self. 다음에 오는 애들.\n",
    "- class 내에서 정의된 변수. "
   ]
  },
  {
   "cell_type": "code",
   "execution_count": 14,
   "metadata": {},
   "outputs": [
    {
     "name": "stdout",
     "output_type": "stream",
     "text": [
      "레이스 유닛이 생성 되었습니다.\n",
      "체력 80, 공격력 5\n",
      "유닛 이름 : 레이스, 공격력 : 5\n",
      "빼앗은 레이스 유닛이 생성 되었습니다.\n",
      "체력 80, 공격력 5\n",
      "빼앗은 레이스는 현재 클로킹 상태입니다.\n"
     ]
    }
   ],
   "source": [
    "# class 외부에서 멤버변수 써보기\n",
    "\n",
    "\n",
    "# 레이스 : 공중 유닛, 비행기. 클로킹 (상대방에게 보이지 않음)\n",
    "wraith1 = Unit(\"레이스\", 80, 5)\n",
    "print(\"유닛 이름 : {0}, 공격력 : {1}\".format(wraith1.name, wraith1.damage))\n",
    "\n",
    "# 마인드 컨트롤 : 상대방 유닛을 내 것으로 만드는 것 (빼앗음)\n",
    "wraith2 = Unit(\"빼앗은 레이스\", 80, 5)\n",
    "wraith2.clocking = True\n",
    "\n",
    "if wraith2.clocking == True:\n",
    "    print(\"{0}는 현재 클로킹 상태입니다.\".format(wraith2.name))\n",
    "    \n",
    "    \n",
    "# 클래스 외부에서 원하는 변수로 확장가능. 확장된 변수는 확장된 객체에서만 적용된다."
   ]
  },
  {
   "cell_type": "code",
   "execution_count": null,
   "metadata": {},
   "outputs": [],
   "source": []
  },
  {
   "cell_type": "markdown",
   "metadata": {},
   "source": [
    "### 메소드"
   ]
  },
  {
   "cell_type": "code",
   "execution_count": 16,
   "metadata": {},
   "outputs": [],
   "source": [
    "## class 만들기\n",
    "class AttackUnit:\n",
    "    def __init__(self, name, hp, damage): # AttackUnit에 포함된 1번째 함수\n",
    "        self.name = name\n",
    "        self.hp = hp\n",
    "        self.damage = damage\n",
    "    \n",
    "    # class 내에 있는 method를 쓸때는 앞에 self. 붙여준다.\n",
    "    # self 없으면, 함수 정의할때 전달받은 값을 사용한다는 뜻이다.\n",
    "    def attack(self, location): # AttackUnit에 포함된 2번째 함수 : 공격하는\n",
    "        print(\"{0} : {1} 방향으로 적군을 공격 합니다. [공격력 {2}]\"\\\n",
    "              .format(self.name, location, self.damage))\n",
    "        \n",
    "    def damaged(self, damage):  # AttackUnit에 포함된 3번째 함수 : 공격받는\n",
    "        print(\"{0} : {1} 데미지를 입었습니다.\".format(self.name, damage))\n",
    "        self.hp -= damage\n",
    "        print(\"{0} : 현재 체력은 {1} 입니다.\".format(self.name, self.hp))\n",
    "        if self.hp <= 0:\n",
    "            print(\"{0} : 파괴되었습니다.\".format(self.name))\n",
    "        \n",
    "        "
   ]
  },
  {
   "cell_type": "code",
   "execution_count": 20,
   "metadata": {},
   "outputs": [
    {
     "name": "stdout",
     "output_type": "stream",
     "text": [
      "파이어뱃 : 5시 방향으로 적군을 공격 합니다. [공격력 16]\n",
      "파이어뱃 : 25 데미지를 입었습니다.\n",
      "파이어뱃 : 현재 체력은 25 입니다.\n",
      "파이어뱃 : 25 데미지를 입었습니다.\n",
      "파이어뱃 : 현재 체력은 0 입니다.\n",
      "파이어뱃 : 파괴되었습니다.\n"
     ]
    }
   ],
   "source": [
    "# #객체 만들기\n",
    "\n",
    "# 메딕 : 의무병  -> 공격력 없음\n",
    "\n",
    "# 파이어뱃 : 공격 유닛, 화염방사기.\n",
    "firebat1 = AttackUnit(\"파이어뱃\", 50, 16)\n",
    "firebat1.attack(\"5시\")\n",
    "\n",
    "# 공격 2번 받는다고 가정\n",
    "firebat1.damaged(25)\n",
    "firebat1.damaged(25)"
   ]
  },
  {
   "attachments": {
    "image.png": {
     "image/png": "[encoded data removed]"
    }
   },
   "cell_type": "markdown",
   "metadata": {},
   "source": [
    "ㄴ\n",
    "![image.png](attachment:image.png)\n",
    "-> __init__ 함수 밑에있는 공격력이라는 멤버변수 damage가 아니라!!\n",
    "damaged 라는 함수를 쓰려고 했으니..ㅋㅋㅋ damaged라고 오타정정 해준다"
   ]
  },
  {
   "cell_type": "code",
   "execution_count": null,
   "metadata": {},
   "outputs": [],
   "source": []
  },
  {
   "cell_type": "markdown",
   "metadata": {},
   "source": [
    "## 상속"
   ]
  },
  {
   "cell_type": "code",
   "execution_count": null,
   "metadata": {},
   "outputs": [],
   "source": [
    "# medic 유닛 만들기!!"
   ]
  },
  {
   "cell_type": "code",
   "execution_count": null,
   "metadata": {},
   "outputs": [],
   "source": [
    "# 일반유닛과 공격유닛에서 self.name = name, self.hp = hp 라는 중복되는 부분이 있다.\n",
    "# -> 상속 : Unit이라는 class 의 내용을 상속받아서 AttackUnit을 만든다\n",
    "\n",
    "# 일반 유닛\n",
    "class Unit:\n",
    "    def __init__(self, name, hp):\n",
    "        self.name = name\n",
    "        self.hp = hp\n",
    "\n",
    "        \n",
    "# 공격 유닛\n",
    "class AttackUnit(Unit):   # 상속받고 싶은 유닛을 ()안에 넣어준다\n",
    "    def __init__(self, name, hp, damage): # AttackUnit에 포함된 1번째 함수\n",
    "        Unit.__init__(self, name, hp)\n",
    "        self.damage = damage\n",
    "    \n",
    "    # class 내에 있는 method를 쓸때는 앞에 self. 붙여준다.\n",
    "    # self 없으면, 함수 정의할때 전달받은 값을 사용한다는 뜻이다.\n",
    "    def attack(self, location): # AttackUnit에 포함된 2번째 함수 : 공격하는\n",
    "        print(\"{0} : {1} 방향으로 적군을 공격 합니다. [공격력 {2}]\"\\\n",
    "              .format(self.name, location, self.damage))\n",
    "        \n",
    "    def damaged(self, damage):  # AttackUnit에 포함된 3번째 함수 : 공격받는\n",
    "        print(\"{0} : {1} 데미지를 입었습니다.\".format(self.name, damage))\n",
    "        self.hp -= damage\n",
    "        print(\"{0} : 현재 체력은 {1} 입니다.\".format(self.name, self.hp))\n",
    "        if self.hp <= 0:\n",
    "            print(\"{0} : 파괴되었습니다.\".format(self.name))"
   ]
  },
  {
   "cell_type": "code",
   "execution_count": null,
   "metadata": {},
   "outputs": [],
   "source": []
  },
  {
   "cell_type": "code",
   "execution_count": null,
   "metadata": {},
   "outputs": [],
   "source": [
    "############### 4:02:38 "
   ]
  },
  {
   "cell_type": "code",
   "execution_count": null,
   "metadata": {},
   "outputs": [],
   "source": []
  },
  {
   "cell_type": "code",
   "execution_count": null,
   "metadata": {},
   "outputs": [],
   "source": []
  },
  {
   "cell_type": "code",
   "execution_count": null,
   "metadata": {},
   "outputs": [],
   "source": []
  },
  {
   "cell_type": "code",
   "execution_count": null,
   "metadata": {},
   "outputs": [],
   "source": []
  },
  {
   "cell_type": "code",
   "execution_count": null,
   "metadata": {},
   "outputs": [],
   "source": []
  },
  {
   "cell_type": "code",
   "execution_count": null,
   "metadata": {},
   "outputs": [],
   "source": []
  },
  {
   "cell_type": "code",
   "execution_count": null,
   "metadata": {},
   "outputs": [],
   "source": []
  },
  {
   "cell_type": "code",
   "execution_count": null,
   "metadata": {},
   "outputs": [],
   "source": []
  },
  {
   "cell_type": "code",
   "execution_count": null,
   "metadata": {},
   "outputs": [],
   "source": []
  },
  {
   "cell_type": "code",
   "execution_count": null,
   "metadata": {},
   "outputs": [],
   "source": []
  },
  {
   "cell_type": "code",
   "execution_count": null,
   "metadata": {},
   "outputs": [],
   "source": []
  },
  {
   "cell_type": "code",
   "execution_count": null,
   "metadata": {},
   "outputs": [],
   "source": []
  },
  {
   "cell_type": "code",
   "execution_count": null,
   "metadata": {},
   "outputs": [],
   "source": []
  },
  {
   "cell_type": "code",
   "execution_count": null,
   "metadata": {},
   "outputs": [],
   "source": []
  },
  {
   "cell_type": "code",
   "execution_count": null,
   "metadata": {},
   "outputs": [],
   "source": []
  }
 ],
 "metadata": {
  "kernelspec": {
   "display_name": "Python 3",
   "language": "python",
   "name": "python3"
  },
  "language_info": {
   "codemirror_mode": {
    "name": "ipython",
    "version": 3
   },
   "file_extension": ".py",
   "mimetype": "text/x-python",
   "name": "python",
   "nbconvert_exporter": "python",
   "pygments_lexer": "ipython3",
   "version": "3.8.3"
  }
 },
 "nbformat": 4,
 "nbformat_minor": 4
}
