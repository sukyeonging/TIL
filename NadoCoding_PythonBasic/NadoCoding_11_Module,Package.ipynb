{
 "cells": [
  {
   "cell_type": "markdown",
   "metadata": {},
   "source": [
    "Youtube_NadoCoding_module_5:14:23\n",
    "Youtube_NadoCoding_package_5:24:10"
   ]
  },
  {
   "cell_type": "markdown",
   "metadata": {},
   "source": [
    "# module\n",
    "- 필요한 것들끼리 부품처럼 만들어진 파일.\n",
    "- ex 자동차) 사고가 났는데 범퍼만 파손됐으면 -> 범퍼 부품만 교체.\n",
    "- 유지보수, 코드의 재사용 용이 하다는 장점이 있다."
   ]
  },
  {
   "cell_type": "code",
   "execution_count": null,
   "metadata": {},
   "outputs": [],
   "source": [
    "# theater_module.py"
   ]
  },
  {
   "cell_type": "code",
   "execution_count": null,
   "metadata": {},
   "outputs": [],
   "source": [
    "# 일반 가격\n",
    "def price(people):\n",
    "    print(\"{0}명 가격은 {1}원 입니다.\".format(people, people * 10000))\n",
    "    \n",
    "# 조조할인 가격\n",
    "def price_morning(people):\n",
    "    print(\"{0}명의 조조 할인 가격은 {1}원 입니다.\".format(people, people * 6000))\n",
    "    \n",
    "# 군인 할인 가격\n",
    "def price_soldier(people):\n",
    "    print(\"{0}명 군인 할인 가격은 {1}원 입니다.\".format(people, people * 4000))"
   ]
  },
  {
   "cell_type": "code",
   "execution_count": null,
   "metadata": {},
   "outputs": [],
   "source": []
  },
  {
   "cell_type": "code",
   "execution_count": 5,
   "metadata": {},
   "outputs": [
    {
     "name": "stdout",
     "output_type": "stream",
     "text": [
      "3명 가격은 30000원 입니다.\n",
      "4명의 조조 할인 가격은 24000원 입니다.\n",
      "5명 군인 할인 가격은 20000원 입니다.\n"
     ]
    }
   ],
   "source": [
    "import theater_module\n",
    "theater_module.price(3)  # 3명이서 영화 보러 갔을 때 가격\n",
    "theater_module.price_morning(4)  # 4명이서 조조할인 영화 보러 갔을때\n",
    "theater_module.price_soldier(5)  # 5명의 군인이 영화 보러 갔을때"
   ]
  },
  {
   "cell_type": "code",
   "execution_count": 6,
   "metadata": {},
   "outputs": [
    {
     "name": "stdout",
     "output_type": "stream",
     "text": [
      "3명 가격은 30000원 입니다.\n",
      "4명의 조조 할인 가격은 24000원 입니다.\n",
      "5명 군인 할인 가격은 20000원 입니다.\n"
     ]
    }
   ],
   "source": [
    "# module명이 길때, 별명을 통해서 줄여서 사용할 수 있다\n",
    "\n",
    "import theater_module as mv\n",
    "\n",
    "mv.price(3)\n",
    "mv.price_morning(4)\n",
    "mv.price_soldier(5)"
   ]
  },
  {
   "cell_type": "code",
   "execution_count": 7,
   "metadata": {},
   "outputs": [
    {
     "name": "stdout",
     "output_type": "stream",
     "text": [
      "3명 가격은 30000원 입니다.\n",
      "4명의 조조 할인 가격은 24000원 입니다.\n",
      "5명 군인 할인 가격은 20000원 입니다.\n"
     ]
    }
   ],
   "source": [
    "# import 대신에 from import\n",
    "\n",
    "from theater_module import *\n",
    "# from random import * \n",
    "price(3)\n",
    "price_morning(4)\n",
    "price_soldier(5)"
   ]
  },
  {
   "cell_type": "code",
   "execution_count": 10,
   "metadata": {},
   "outputs": [
    {
     "name": "stdout",
     "output_type": "stream",
     "text": [
      "5명 가격은 50000원 입니다.\n",
      "6명의 조조 할인 가격은 36000원 입니다.\n",
      "7명 군인 할인 가격은 28000원 입니다.\n"
     ]
    }
   ],
   "source": [
    "# from import 변형\n",
    "\n",
    "from theater_module import price, price_morning\n",
    "price(5)\n",
    "price_morning(6)\n",
    "# price_soldier(7)    # price_soldier 는 안 불러왔엇으니까 사용 불가."
   ]
  },
  {
   "cell_type": "code",
   "execution_count": 11,
   "metadata": {},
   "outputs": [
    {
     "name": "stdout",
     "output_type": "stream",
     "text": [
      "5명 군인 할인 가격은 20000원 입니다.\n"
     ]
    }
   ],
   "source": [
    "\n",
    "from theater_module import price_soldier as price\n",
    "price(5)"
   ]
  },
  {
   "cell_type": "code",
   "execution_count": null,
   "metadata": {},
   "outputs": [],
   "source": []
  },
  {
   "cell_type": "markdown",
   "metadata": {},
   "source": [
    "# package\n",
    "- module들을 모아놓은 집합\n",
    "- 하나의 디렉토리에 여러 module파일들으 모아둔 것"
   ]
  },
  {
   "cell_type": "code",
   "execution_count": null,
   "metadata": {},
   "outputs": [],
   "source": [
    "# thailnad.py 패키지\n",
    "\n",
    "class ThailandPackage:\n",
    "    def detail(self):\n",
    "        print(\"[태국 패키지 3박 5일] 방콕, 파타야 여행 (야시장 투어) 50만원\")"
   ]
  },
  {
   "cell_type": "code",
   "execution_count": 2,
   "metadata": {},
   "outputs": [],
   "source": [
    "# vietnam.py 패키지\n",
    "\n",
    "class VietnamPackage:\n",
    "    def detail(self):\n",
    "        print(\"[베트남 패키지 3박 5일] 다낭 효도 여행 60만원\")"
   ]
  },
  {
   "cell_type": "code",
   "execution_count": null,
   "metadata": {},
   "outputs": [],
   "source": []
  },
  {
   "cell_type": "code",
   "execution_count": 18,
   "metadata": {},
   "outputs": [
    {
     "name": "stdout",
     "output_type": "stream",
     "text": [
      "[태국 패키지 3박 5일] 방콕, 파타야 여행 (야시장 투어) 50만원\n"
     ]
    }
   ],
   "source": [
    "import travel.thailand\n",
    "# import travel.thailand.ThailandPackage    # 이런식으로는 사용 불가능!\n",
    "trip_to = travel.thailand.ThailandPackage()\n",
    "trip_to.detail()"
   ]
  },
  {
   "cell_type": "code",
   "execution_count": 19,
   "metadata": {},
   "outputs": [
    {
     "name": "stdout",
     "output_type": "stream",
     "text": [
      "[태국 패키지 3박 5일] 방콕, 파타야 여행 (야시장 투어) 50만원\n"
     ]
    }
   ],
   "source": [
    "# 그러나, import 구문 말고 from import 구문에선 사용가능하다\n",
    "from travel.thailand import ThailandPackage\n",
    "trip_to = ThailandPackage()\n",
    "trip_to.detail()\n",
    "\n"
   ]
  },
  {
   "cell_type": "code",
   "execution_count": 26,
   "metadata": {},
   "outputs": [
    {
     "name": "stdout",
     "output_type": "stream",
     "text": [
      "[태국 패키지 3박 5일] 방콕, 파타야 여행 (야시장 투어) 50만원\n"
     ]
    }
   ],
   "source": [
    "from travel import thailand\n",
    "trip_to = thailand.ThailandPackage()\n",
    "trip_to.detail()"
   ]
  },
  {
   "cell_type": "code",
   "execution_count": 3,
   "metadata": {},
   "outputs": [
    {
     "name": "stdout",
     "output_type": "stream",
     "text": [
      "[베트남 패키지 3박 5일] 다낭 효도 여행 60만원\n"
     ]
    }
   ],
   "source": [
    "from travel import vietnam1\n",
    "trip_to = vietnam1.VietnamPackage()\n",
    "trip_to.detail()"
   ]
  },
  {
   "cell_type": "code",
   "execution_count": null,
   "metadata": {},
   "outputs": [],
   "source": []
  },
  {
   "cell_type": "code",
   "execution_count": null,
   "metadata": {},
   "outputs": [],
   "source": [
    "#### File > Preferences > Settings > linintg ????"
   ]
  },
  {
   "cell_type": "markdown",
   "metadata": {},
   "source": [
    "# \\__all__"
   ]
  },
  {
   "cell_type": "code",
   "execution_count": 6,
   "metadata": {},
   "outputs": [
    {
     "ename": "AttributeError",
     "evalue": "module 'travel' has no attribute 'vietnam'",
     "output_type": "error",
     "traceback": [
      "\u001b[1;31m---------------------------------------------------------------------------\u001b[0m",
      "\u001b[1;31mAttributeError\u001b[0m                            Traceback (most recent call last)",
      "\u001b[1;32m<ipython-input-6-12c1839a130b>\u001b[0m in \u001b[0;36m<module>\u001b[1;34m\u001b[0m\n\u001b[0;32m      1\u001b[0m \u001b[1;31m# from random import *\u001b[0m\u001b[1;33m\u001b[0m\u001b[1;33m\u001b[0m\u001b[1;33m\u001b[0m\u001b[0m\n\u001b[1;32m----> 2\u001b[1;33m \u001b[1;32mfrom\u001b[0m \u001b[0mtravel\u001b[0m \u001b[1;32mimport\u001b[0m \u001b[1;33m*\u001b[0m\u001b[1;33m\u001b[0m\u001b[1;33m\u001b[0m\u001b[0m\n\u001b[0m\u001b[0;32m      3\u001b[0m \u001b[1;33m\u001b[0m\u001b[0m\n\u001b[0;32m      4\u001b[0m \u001b[1;31m# trip_to = thailand.ThailandPackage()\u001b[0m\u001b[1;33m\u001b[0m\u001b[1;33m\u001b[0m\u001b[1;33m\u001b[0m\u001b[0m\n\u001b[0;32m      5\u001b[0m \u001b[0mtrip_to\u001b[0m \u001b[1;33m=\u001b[0m \u001b[0mthailand\u001b[0m\u001b[1;33m.\u001b[0m\u001b[0mThailandPackage\u001b[0m\u001b[1;33m(\u001b[0m\u001b[1;33m)\u001b[0m\u001b[1;33m\u001b[0m\u001b[1;33m\u001b[0m\u001b[0m\n",
      "\u001b[1;31mAttributeError\u001b[0m: module 'travel' has no attribute 'vietnam'"
     ]
    }
   ],
   "source": [
    "# from random import *\n",
    "from travel import *\n",
    "\n",
    "# trip_to = thailand.ThailandPackage()\n",
    "trip_to = thailand.ThailandPackage()\n",
    "trip_to.detail()"
   ]
  },
  {
   "cell_type": "code",
   "execution_count": null,
   "metadata": {},
   "outputs": [],
   "source": []
  },
  {
   "cell_type": "markdown",
   "metadata": {},
   "source": [
    "# module 직접 실행"
   ]
  },
  {
   "cell_type": "code",
   "execution_count": 14,
   "metadata": {},
   "outputs": [
    {
     "ename": "AttributeError",
     "evalue": "module 'travel' has no attribute 'vietnam'",
     "output_type": "error",
     "traceback": [
      "\u001b[1;31m---------------------------------------------------------------------------\u001b[0m",
      "\u001b[1;31mAttributeError\u001b[0m                            Traceback (most recent call last)",
      "\u001b[1;32m<ipython-input-14-ebcf7a626eef>\u001b[0m in \u001b[0;36m<module>\u001b[1;34m\u001b[0m\n\u001b[1;32m----> 1\u001b[1;33m \u001b[1;32mfrom\u001b[0m \u001b[0mtravel\u001b[0m \u001b[1;32mimport\u001b[0m \u001b[1;33m*\u001b[0m\u001b[1;33m\u001b[0m\u001b[1;33m\u001b[0m\u001b[0m\n\u001b[0m\u001b[0;32m      2\u001b[0m \u001b[1;33m\u001b[0m\u001b[0m\n\u001b[0;32m      3\u001b[0m \u001b[0mtrip_to\u001b[0m \u001b[1;33m=\u001b[0m \u001b[0mthailand\u001b[0m\u001b[1;33m.\u001b[0m\u001b[0mThailandPackage\u001b[0m\u001b[1;33m(\u001b[0m\u001b[1;33m)\u001b[0m\u001b[1;33m\u001b[0m\u001b[1;33m\u001b[0m\u001b[0m\n\u001b[0;32m      4\u001b[0m \u001b[0mtrip_to\u001b[0m\u001b[1;33m.\u001b[0m\u001b[0mdetail\u001b[0m\u001b[1;33m(\u001b[0m\u001b[1;33m)\u001b[0m\u001b[1;33m\u001b[0m\u001b[1;33m\u001b[0m\u001b[0m\n",
      "\u001b[1;31mAttributeError\u001b[0m: module 'travel' has no attribute 'vietnam'"
     ]
    }
   ],
   "source": [
    "from travel import *\n",
    "\n",
    "trip_to = thailand.ThailandPackage()\n",
    "trip_to.detail()"
   ]
  },
  {
   "cell_type": "code",
   "execution_count": null,
   "metadata": {},
   "outputs": [],
   "source": []
  },
  {
   "cell_type": "markdown",
   "metadata": {},
   "source": [
    "# 패키지, 모듈 위치"
   ]
  },
  {
   "cell_type": "code",
   "execution_count": 15,
   "metadata": {},
   "outputs": [
    {
     "name": "stdout",
     "output_type": "stream",
     "text": [
      "C:\\Users\\user\\anaconda3\\lib\\random.py\n"
     ]
    },
    {
     "ename": "NameError",
     "evalue": "name 'thailand' is not defined",
     "output_type": "error",
     "traceback": [
      "\u001b[1;31m---------------------------------------------------------------------------\u001b[0m",
      "\u001b[1;31mNameError\u001b[0m                                 Traceback (most recent call last)",
      "\u001b[1;32m<ipython-input-15-2362203c0fe0>\u001b[0m in \u001b[0;36m<module>\u001b[1;34m\u001b[0m\n\u001b[0;32m      2\u001b[0m \u001b[1;32mimport\u001b[0m \u001b[0mrandom\u001b[0m\u001b[1;33m\u001b[0m\u001b[1;33m\u001b[0m\u001b[0m\n\u001b[0;32m      3\u001b[0m \u001b[0mprint\u001b[0m\u001b[1;33m(\u001b[0m\u001b[0minspect\u001b[0m\u001b[1;33m.\u001b[0m\u001b[0mgetfile\u001b[0m\u001b[1;33m(\u001b[0m\u001b[0mrandom\u001b[0m\u001b[1;33m)\u001b[0m\u001b[1;33m)\u001b[0m\u001b[1;33m\u001b[0m\u001b[1;33m\u001b[0m\u001b[0m\n\u001b[1;32m----> 4\u001b[1;33m \u001b[0mprint\u001b[0m\u001b[1;33m(\u001b[0m\u001b[0minspect\u001b[0m\u001b[1;33m.\u001b[0m\u001b[0mgetfile\u001b[0m\u001b[1;33m(\u001b[0m\u001b[0mthailand\u001b[0m\u001b[1;33m)\u001b[0m\u001b[1;33m)\u001b[0m\u001b[1;33m\u001b[0m\u001b[1;33m\u001b[0m\u001b[0m\n\u001b[0m",
      "\u001b[1;31mNameError\u001b[0m: name 'thailand' is not defined"
     ]
    }
   ],
   "source": [
    "import inspect\n",
    "import random\n",
    "print(inspect.getfile(random))\n",
    "print(inspect.getfile(thailand))"
   ]
  },
  {
   "cell_type": "code",
   "execution_count": null,
   "metadata": {},
   "outputs": [],
   "source": []
  },
  {
   "cell_type": "markdown",
   "metadata": {},
   "source": [
    "# pip install\n",
    "- pip로 패키지 설치하기\n",
    "- google > pypi.org"
   ]
  },
  {
   "cell_type": "code",
   "execution_count": null,
   "metadata": {},
   "outputs": [],
   "source": []
  },
  {
   "cell_type": "code",
   "execution_count": null,
   "metadata": {},
   "outputs": [],
   "source": []
  },
  {
   "cell_type": "code",
   "execution_count": null,
   "metadata": {},
   "outputs": [],
   "source": []
  },
  {
   "cell_type": "code",
   "execution_count": null,
   "metadata": {},
   "outputs": [],
   "source": []
  },
  {
   "cell_type": "code",
   "execution_count": null,
   "metadata": {},
   "outputs": [],
   "source": []
  },
  {
   "cell_type": "code",
   "execution_count": null,
   "metadata": {},
   "outputs": [],
   "source": []
  },
  {
   "cell_type": "code",
   "execution_count": null,
   "metadata": {},
   "outputs": [],
   "source": []
  },
  {
   "cell_type": "code",
   "execution_count": null,
   "metadata": {},
   "outputs": [],
   "source": []
  },
  {
   "cell_type": "code",
   "execution_count": null,
   "metadata": {},
   "outputs": [],
   "source": []
  }
 ],
 "metadata": {
  "kernelspec": {
   "display_name": "Python 3",
   "language": "python",
   "name": "python3"
  },
  "language_info": {
   "codemirror_mode": {
    "name": "ipython",
    "version": 3
   },
   "file_extension": ".py",
   "mimetype": "text/x-python",
   "name": "python",
   "nbconvert_exporter": "python",
   "pygments_lexer": "ipython3",
   "version": "3.8.3"
  }
 },
 "nbformat": 4,
 "nbformat_minor": 4
}
